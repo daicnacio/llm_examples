{
 "cells": [
  {
   "cell_type": "code",
   "execution_count": 1,
   "id": "183cefe3-8ec0-4fb4-ad82-c526a4e79ffb",
   "metadata": {},
   "outputs": [],
   "source": [
    "import pandas as pd\n",
    "from dotenv import load_dotenv, find_dotenv\n",
    "import os\n",
    "import pinecone\n",
    "from pinecone import PodSpec\n",
    "\n",
    "from canopy.tokenizer import Tokenizer\n",
    "\n",
    "from tqdm.auto import tqdm\n",
    "from canopy.knowledge_base import KnowledgeBase\n",
    "from canopy.models.data_models import Document\n",
    "from canopy.knowledge_base import list_canopy_indexes\n",
    "\n",
    "from canopy.models.data_models import Query\n",
    "from canopy.context_engine import ContextEngine\n",
    "from canopy.models.data_models import UserMessage\n",
    "import gradio as gr"
   ]
  },
  {
   "cell_type": "code",
   "execution_count": 2,
   "id": "e11578c6-7324-4719-9b22-13323765deac",
   "metadata": {},
   "outputs": [],
   "source": [
    "import pandas as pd\n",
    "from bs4 import BeautifulSoup\n",
    "\n",
    "def html_to_text(text):\n",
    "    soup = BeautifulSoup(text)\n",
    "    return soup.get_text()\n",
    "def clean_csv(filepath):\n",
    "    df=pd.read_csv(filepath)\n",
    "    df_filtered=df[~df[\"Body (HTML)\"].isnull()][[\"Handle\",\"Body (HTML)\",\"SEO Description\",\"Variant Price\"]]\n",
    "    df_filtered[\"Body Filtered HTML\"]=df_filtered[\"Body (HTML)\"].apply(html_to_text)\n",
    "    df_filtered.to_parquet(\"products_export_1.parquet\")\n",
    "\n",
    "def append_source(text):\n",
    "    return \"https://contentia.cl/products/\"+text"
   ]
  },
  {
   "cell_type": "code",
   "execution_count": 3,
   "id": "eb814082-2270-4835-83e4-ab7d3217a67b",
   "metadata": {},
   "outputs": [],
   "source": [
    "load_dotenv(find_dotenv())\n",
    "PINECONE_API_KEY=os.getenv(\"PINECONE_API_KEY\")\n",
    "filepath_parquet=os.getenv(\"FILEPATH_PARQUET\")\n",
    "filepath_csv=os.getenv(\"FILEPATH_CSV\")\n",
    "gradio_port=os.getenv(\"PORT1\")\n"
   ]
  },
  {
   "cell_type": "code",
   "execution_count": 5,
   "id": "2f8bb917-e5d2-4443-a3ef-b5792d035e60",
   "metadata": {},
   "outputs": [],
   "source": [
    "data=pd.read_parquet(filepath_parquet)\n"
   ]
  },
  {
   "cell_type": "code",
   "execution_count": 6,
   "id": "240d6ca0-fbe2-43d1-b23e-c57e6bc4c78b",
   "metadata": {},
   "outputs": [
    {
     "data": {
      "text/html": [
       "<div>\n",
       "<style scoped>\n",
       "    .dataframe tbody tr th:only-of-type {\n",
       "        vertical-align: middle;\n",
       "    }\n",
       "\n",
       "    .dataframe tbody tr th {\n",
       "        vertical-align: top;\n",
       "    }\n",
       "\n",
       "    .dataframe thead th {\n",
       "        text-align: right;\n",
       "    }\n",
       "</style>\n",
       "<table border=\"1\" class=\"dataframe\">\n",
       "  <thead>\n",
       "    <tr style=\"text-align: right;\">\n",
       "      <th></th>\n",
       "      <th>id</th>\n",
       "      <th>text</th>\n",
       "    </tr>\n",
       "  </thead>\n",
       "  <tbody>\n",
       "    <tr>\n",
       "      <th>0</th>\n",
       "      <td>bateria-np-f970-decodificada-para-luces-led-y-...</td>\n",
       "      <td>\\nBatería NP-F970 de la marca Iluminus. \\nCom...</td>\n",
       "    </tr>\n",
       "    <tr>\n",
       "      <th>1</th>\n",
       "      <td>cargador-de-baterias-serie-np-f-multifuncional...</td>\n",
       "      <td>Presentamos el cargador de baterías multifunci...</td>\n",
       "    </tr>\n",
       "    <tr>\n",
       "      <th>15</th>\n",
       "      <td>estabilizador-de-smartphone-zhiyun-smooth-q4-c...</td>\n",
       "      <td>\\nEl estabilizador de cardán para smartphone ...</td>\n",
       "    </tr>\n",
       "    <tr>\n",
       "      <th>27</th>\n",
       "      <td>monopodo-de-video-xpro-de-4-secciones-con-base...</td>\n",
       "      <td>El último monopié XPRO de aluminio de 4 seccio...</td>\n",
       "    </tr>\n",
       "    <tr>\n",
       "      <th>30</th>\n",
       "      <td>monopodo-xpro-manfrotto-4-secciones-en-aluminio</td>\n",
       "      <td>El revolucionario monópodp XPRO de 4 secciones...</td>\n",
       "    </tr>\n",
       "    <tr>\n",
       "      <th>...</th>\n",
       "      <td>...</td>\n",
       "      <td>...</td>\n",
       "    </tr>\n",
       "    <tr>\n",
       "      <th>2224</th>\n",
       "      <td>vijim-vl196-luz-led-multicolor-con-difusor-y-p...</td>\n",
       "      <td>Gran rendimiento de color\\nEl panel de luz LED...</td>\n",
       "    </tr>\n",
       "    <tr>\n",
       "      <th>2241</th>\n",
       "      <td>ulanzi-pt-12-adaptador-triple-zapata-fria</td>\n",
       "      <td>\\nSoporte de zapata fría estándar universal\\nC...</td>\n",
       "    </tr>\n",
       "    <tr>\n",
       "      <th>2248</th>\n",
       "      <td>ulanzi-st-16-soporte-de-telefonos-metalico-mul...</td>\n",
       "      <td>Soporte metálico para teléfonos en trípode, co...</td>\n",
       "    </tr>\n",
       "    <tr>\n",
       "      <th>2255</th>\n",
       "      <td>ulanzi-mt-11-tripode-flexible-para-camaras-reflex</td>\n",
       "      <td>El trípode Ulanzi MT-11 Octopus admite cámaras...</td>\n",
       "    </tr>\n",
       "    <tr>\n",
       "      <th>2261</th>\n",
       "      <td>ulanzi-l1-pro-lampara-led-todo-terreno-para-ca...</td>\n",
       "      <td>Luz LED con 4 niveles de potencia regulable, t...</td>\n",
       "    </tr>\n",
       "  </tbody>\n",
       "</table>\n",
       "<p>332 rows × 2 columns</p>\n",
       "</div>"
      ],
      "text/plain": [
       "                                                     id   \n",
       "0     bateria-np-f970-decodificada-para-luces-led-y-...  \\\n",
       "1     cargador-de-baterias-serie-np-f-multifuncional...   \n",
       "15    estabilizador-de-smartphone-zhiyun-smooth-q4-c...   \n",
       "27    monopodo-de-video-xpro-de-4-secciones-con-base...   \n",
       "30      monopodo-xpro-manfrotto-4-secciones-en-aluminio   \n",
       "...                                                 ...   \n",
       "2224  vijim-vl196-luz-led-multicolor-con-difusor-y-p...   \n",
       "2241          ulanzi-pt-12-adaptador-triple-zapata-fria   \n",
       "2248  ulanzi-st-16-soporte-de-telefonos-metalico-mul...   \n",
       "2255  ulanzi-mt-11-tripode-flexible-para-camaras-reflex   \n",
       "2261  ulanzi-l1-pro-lampara-led-todo-terreno-para-ca...   \n",
       "\n",
       "                                                   text  \n",
       "0      \\nBatería NP-F970 de la marca Iluminus. \\nCom...  \n",
       "1     Presentamos el cargador de baterías multifunci...  \n",
       "15     \\nEl estabilizador de cardán para smartphone ...  \n",
       "27    El último monopié XPRO de aluminio de 4 seccio...  \n",
       "30    El revolucionario monópodp XPRO de 4 secciones...  \n",
       "...                                                 ...  \n",
       "2224  Gran rendimiento de color\\nEl panel de luz LED...  \n",
       "2241  \\nSoporte de zapata fría estándar universal\\nC...  \n",
       "2248  Soporte metálico para teléfonos en trípode, co...  \n",
       "2255  El trípode Ulanzi MT-11 Octopus admite cámaras...  \n",
       "2261  Luz LED con 4 niveles de potencia regulable, t...  \n",
       "\n",
       "[332 rows x 2 columns]"
      ]
     },
     "execution_count": 6,
     "metadata": {},
     "output_type": "execute_result"
    }
   ],
   "source": [
    "data_for_upsert=data.rename(columns={\"Handle\":\"id\",\"Body Filtered HTML\":\"text\"})[[\"id\",\"text\"]]\n",
    "data_for_upsert"
   ]
  },
  {
   "cell_type": "code",
   "execution_count": 7,
   "id": "9db971ec-df4c-4301-bb83-01f3613d6776",
   "metadata": {},
   "outputs": [],
   "source": [
    "data_for_upsert[\"source\"]=data_for_upsert[\"id\"].apply(append_source)"
   ]
  },
  {
   "cell_type": "code",
   "execution_count": 8,
   "id": "e9f2d287-c148-4df0-963c-3d3031a6c683",
   "metadata": {},
   "outputs": [
    {
     "data": {
      "text/html": [
       "<div>\n",
       "<style scoped>\n",
       "    .dataframe tbody tr th:only-of-type {\n",
       "        vertical-align: middle;\n",
       "    }\n",
       "\n",
       "    .dataframe tbody tr th {\n",
       "        vertical-align: top;\n",
       "    }\n",
       "\n",
       "    .dataframe thead th {\n",
       "        text-align: right;\n",
       "    }\n",
       "</style>\n",
       "<table border=\"1\" class=\"dataframe\">\n",
       "  <thead>\n",
       "    <tr style=\"text-align: right;\">\n",
       "      <th></th>\n",
       "      <th>id</th>\n",
       "      <th>text</th>\n",
       "      <th>source</th>\n",
       "    </tr>\n",
       "  </thead>\n",
       "  <tbody>\n",
       "    <tr>\n",
       "      <th>0</th>\n",
       "      <td>bateria-np-f970-decodificada-para-luces-led-y-...</td>\n",
       "      <td>\\nBatería NP-F970 de la marca Iluminus. \\nCom...</td>\n",
       "      <td>https://contentia.cl/products/bateria-np-f970-...</td>\n",
       "    </tr>\n",
       "    <tr>\n",
       "      <th>1</th>\n",
       "      <td>cargador-de-baterias-serie-np-f-multifuncional...</td>\n",
       "      <td>Presentamos el cargador de baterías multifunci...</td>\n",
       "      <td>https://contentia.cl/products/cargador-de-bate...</td>\n",
       "    </tr>\n",
       "    <tr>\n",
       "      <th>15</th>\n",
       "      <td>estabilizador-de-smartphone-zhiyun-smooth-q4-c...</td>\n",
       "      <td>\\nEl estabilizador de cardán para smartphone ...</td>\n",
       "      <td>https://contentia.cl/products/estabilizador-de...</td>\n",
       "    </tr>\n",
       "    <tr>\n",
       "      <th>27</th>\n",
       "      <td>monopodo-de-video-xpro-de-4-secciones-con-base...</td>\n",
       "      <td>El último monopié XPRO de aluminio de 4 seccio...</td>\n",
       "      <td>https://contentia.cl/products/monopodo-de-vide...</td>\n",
       "    </tr>\n",
       "    <tr>\n",
       "      <th>30</th>\n",
       "      <td>monopodo-xpro-manfrotto-4-secciones-en-aluminio</td>\n",
       "      <td>El revolucionario monópodp XPRO de 4 secciones...</td>\n",
       "      <td>https://contentia.cl/products/monopodo-xpro-ma...</td>\n",
       "    </tr>\n",
       "    <tr>\n",
       "      <th>...</th>\n",
       "      <td>...</td>\n",
       "      <td>...</td>\n",
       "      <td>...</td>\n",
       "    </tr>\n",
       "    <tr>\n",
       "      <th>2224</th>\n",
       "      <td>vijim-vl196-luz-led-multicolor-con-difusor-y-p...</td>\n",
       "      <td>Gran rendimiento de color\\nEl panel de luz LED...</td>\n",
       "      <td>https://contentia.cl/products/vijim-vl196-luz-...</td>\n",
       "    </tr>\n",
       "    <tr>\n",
       "      <th>2241</th>\n",
       "      <td>ulanzi-pt-12-adaptador-triple-zapata-fria</td>\n",
       "      <td>\\nSoporte de zapata fría estándar universal\\nC...</td>\n",
       "      <td>https://contentia.cl/products/ulanzi-pt-12-ada...</td>\n",
       "    </tr>\n",
       "    <tr>\n",
       "      <th>2248</th>\n",
       "      <td>ulanzi-st-16-soporte-de-telefonos-metalico-mul...</td>\n",
       "      <td>Soporte metálico para teléfonos en trípode, co...</td>\n",
       "      <td>https://contentia.cl/products/ulanzi-st-16-sop...</td>\n",
       "    </tr>\n",
       "    <tr>\n",
       "      <th>2255</th>\n",
       "      <td>ulanzi-mt-11-tripode-flexible-para-camaras-reflex</td>\n",
       "      <td>El trípode Ulanzi MT-11 Octopus admite cámaras...</td>\n",
       "      <td>https://contentia.cl/products/ulanzi-mt-11-tri...</td>\n",
       "    </tr>\n",
       "    <tr>\n",
       "      <th>2261</th>\n",
       "      <td>ulanzi-l1-pro-lampara-led-todo-terreno-para-ca...</td>\n",
       "      <td>Luz LED con 4 niveles de potencia regulable, t...</td>\n",
       "      <td>https://contentia.cl/products/ulanzi-l1-pro-la...</td>\n",
       "    </tr>\n",
       "  </tbody>\n",
       "</table>\n",
       "<p>332 rows × 3 columns</p>\n",
       "</div>"
      ],
      "text/plain": [
       "                                                     id   \n",
       "0     bateria-np-f970-decodificada-para-luces-led-y-...  \\\n",
       "1     cargador-de-baterias-serie-np-f-multifuncional...   \n",
       "15    estabilizador-de-smartphone-zhiyun-smooth-q4-c...   \n",
       "27    monopodo-de-video-xpro-de-4-secciones-con-base...   \n",
       "30      monopodo-xpro-manfrotto-4-secciones-en-aluminio   \n",
       "...                                                 ...   \n",
       "2224  vijim-vl196-luz-led-multicolor-con-difusor-y-p...   \n",
       "2241          ulanzi-pt-12-adaptador-triple-zapata-fria   \n",
       "2248  ulanzi-st-16-soporte-de-telefonos-metalico-mul...   \n",
       "2255  ulanzi-mt-11-tripode-flexible-para-camaras-reflex   \n",
       "2261  ulanzi-l1-pro-lampara-led-todo-terreno-para-ca...   \n",
       "\n",
       "                                                   text   \n",
       "0      \\nBatería NP-F970 de la marca Iluminus. \\nCom...  \\\n",
       "1     Presentamos el cargador de baterías multifunci...   \n",
       "15     \\nEl estabilizador de cardán para smartphone ...   \n",
       "27    El último monopié XPRO de aluminio de 4 seccio...   \n",
       "30    El revolucionario monópodp XPRO de 4 secciones...   \n",
       "...                                                 ...   \n",
       "2224  Gran rendimiento de color\\nEl panel de luz LED...   \n",
       "2241  \\nSoporte de zapata fría estándar universal\\nC...   \n",
       "2248  Soporte metálico para teléfonos en trípode, co...   \n",
       "2255  El trípode Ulanzi MT-11 Octopus admite cámaras...   \n",
       "2261  Luz LED con 4 niveles de potencia regulable, t...   \n",
       "\n",
       "                                                 source  \n",
       "0     https://contentia.cl/products/bateria-np-f970-...  \n",
       "1     https://contentia.cl/products/cargador-de-bate...  \n",
       "15    https://contentia.cl/products/estabilizador-de...  \n",
       "27    https://contentia.cl/products/monopodo-de-vide...  \n",
       "30    https://contentia.cl/products/monopodo-xpro-ma...  \n",
       "...                                                 ...  \n",
       "2224  https://contentia.cl/products/vijim-vl196-luz-...  \n",
       "2241  https://contentia.cl/products/ulanzi-pt-12-ada...  \n",
       "2248  https://contentia.cl/products/ulanzi-st-16-sop...  \n",
       "2255  https://contentia.cl/products/ulanzi-mt-11-tri...  \n",
       "2261  https://contentia.cl/products/ulanzi-l1-pro-la...  \n",
       "\n",
       "[332 rows x 3 columns]"
      ]
     },
     "execution_count": 8,
     "metadata": {},
     "output_type": "execute_result"
    }
   ],
   "source": [
    "data_for_upsert"
   ]
  },
  {
   "cell_type": "code",
   "execution_count": 9,
   "id": "7c4aee22-59e5-4625-af8a-934cf191d584",
   "metadata": {},
   "outputs": [],
   "source": [
    "spec = PodSpec(environment=\"gcp-starter\")"
   ]
  },
  {
   "cell_type": "code",
   "execution_count": 10,
   "id": "8e5c5acd-374a-40aa-babf-573944bc3666",
   "metadata": {},
   "outputs": [
    {
     "data": {
      "text/plain": [
       "['Hello', ' world', '!']"
      ]
     },
     "execution_count": 10,
     "metadata": {},
     "output_type": "execute_result"
    }
   ],
   "source": [
    "Tokenizer.initialize()\n",
    "tokenizer = Tokenizer()\n",
    "tokenizer.tokenize(\"Hello world!\")\n"
   ]
  },
  {
   "cell_type": "code",
   "execution_count": 12,
   "id": "5b25a74a-8309-41ec-a2e1-62e7053400d0",
   "metadata": {},
   "outputs": [],
   "source": [
    "index_name = \"pinecone-docs\"\n",
    "\n",
    "kb = KnowledgeBase(index_name)\n",
    "\n",
    "if not any(name.endswith(index_name) for name in list_canopy_indexes()):\n",
    "    kb.create_canopy_index(spec=spec)\n",
    "\n",
    "kb.connect()"
   ]
  },
  {
   "cell_type": "code",
   "execution_count": 16,
   "id": "dbdfe418-3e8c-45c5-a9d5-a1863fdc073e",
   "metadata": {},
   "outputs": [],
   "source": [
    "documents = [Document(**row) for _, row in data_for_upsert.iterrows()]\n"
   ]
  },
  {
   "cell_type": "code",
   "execution_count": 17,
   "id": "5b377817-f7b5-47b8-a7a4-4db20c8ca5a9",
   "metadata": {},
   "outputs": [
    {
     "data": {
      "application/vnd.jupyter.widget-view+json": {
       "model_id": "dd07093b40d54d329437029d7b96ecc6",
       "version_major": 2,
       "version_minor": 0
      },
      "text/plain": [
       "  0%|          | 0/4 [00:00<?, ?it/s]"
      ]
     },
     "metadata": {},
     "output_type": "display_data"
    }
   ],
   "source": [
    "batch_size = 100\n",
    "\n",
    "for i in tqdm(range(0, len(documents), batch_size)):\n",
    "    kb.upsert(documents[i: i+batch_size])"
   ]
  },
  {
   "cell_type": "code",
   "execution_count": 13,
   "id": "59c66e59-d180-44f4-87f9-d9d667e0b759",
   "metadata": {},
   "outputs": [],
   "source": [
    "\n",
    "context_engine = ContextEngine(kb)\n",
    "\n",
    "from canopy.chat_engine import ChatEngine\n",
    "chat_engine = ChatEngine(context_engine)\n"
   ]
  },
  {
   "cell_type": "code",
   "execution_count": 14,
   "id": "f66fdbba-92f7-4614-b560-f6c760999d26",
   "metadata": {},
   "outputs": [
    {
     "name": "stdout",
     "output_type": "stream",
     "text": [
      "Las grabadoras de audio disponibles son:\n",
      "\n",
      "1. Grabadora de audio H1n con set de accesorios\n",
      "2. Grabadora de audio portátil Zoom H4n Pro Black de 4 pistas\n",
      "3. Grabadora de audio portátil Zoom H2n\n",
      "4. Mixer de audio y grabadora multipista portátil LiveTrak L-8 Zoom\n",
      "5. Grabadora y micrófono de mano de 4 canales Zoom M4\n",
      "6. Grabadora de 8 canales Zoom H8\n",
      "7. Grabadora de campo compacta Zoom F3\n",
      "\n",
      "Estas son algunas de las grabadoras de audio actualmente disponibles en el mercado.\n"
     ]
    }
   ],
   "source": [
    "chat_history = [UserMessage(content=\"Hazme una lista de las grabadoras de audio disponible\")]\n",
    "print(chat_engine.chat(chat_history).choices[0].message.content)"
   ]
  },
  {
   "cell_type": "code",
   "execution_count": null,
   "id": "c6185222-f34b-4994-8917-0983939975f7",
   "metadata": {},
   "outputs": [],
   "source": [
    "another_entry = [UserMessage(content=\"tienes otros modelos para cargar baterias?\")]\n",
    "chat_engine.chat(another_entry).choices[0].message.content"
   ]
  },
  {
   "cell_type": "code",
   "execution_count": null,
   "id": "9d8b1fce-9981-4daf-9f79-4fcbb5e200e5",
   "metadata": {},
   "outputs": [],
   "source": [
    "another_entry = [UserMessage(content=\"podrias hacer una lista de los bolsos disponibles?\")]\n",
    "print(chat_engine.chat(another_entry).choices[0].message.content)"
   ]
  },
  {
   "cell_type": "code",
   "execution_count": 4,
   "id": "15d08b6f-1737-4267-a6a3-bc087c06791c",
   "metadata": {},
   "outputs": [
    {
     "name": "stderr",
     "output_type": "stream",
     "text": [
      "/home/davidignacio/git/llm_examples/canopy_example/.venv/lib/python3.10/site-packages/gradio/utils.py:858: UserWarning: Expected 2 arguments for function <function generate at 0x7f3018dd9120>, received 1.\n",
      "  warnings.warn(\n",
      "/home/davidignacio/git/llm_examples/canopy_example/.venv/lib/python3.10/site-packages/gradio/utils.py:862: UserWarning: Expected at least 2 arguments for function <function generate at 0x7f3018dd9120>, received 1.\n",
      "  warnings.warn(\n"
     ]
    },
    {
     "name": "stdout",
     "output_type": "stream",
     "text": [
      "Running on local URL:  http://127.0.0.1:8999\n",
      "Running on public URL: https://a967784d15b03dbc0a.gradio.live\n",
      "\n",
      "This share link expires in 72 hours. For free permanent hosting and GPU upgrades, run `gradio deploy` from Terminal to deploy to Spaces (https://huggingface.co/spaces)\n"
     ]
    },
    {
     "data": {
      "text/html": [
       "<div><iframe src=\"https://a967784d15b03dbc0a.gradio.live\" width=\"100%\" height=\"500\" allow=\"autoplay; camera; microphone; clipboard-read; clipboard-write;\" frameborder=\"0\" allowfullscreen></iframe></div>"
      ],
      "text/plain": [
       "<IPython.core.display.HTML object>"
      ]
     },
     "metadata": {},
     "output_type": "display_data"
    },
    {
     "data": {
      "text/plain": []
     },
     "execution_count": 4,
     "metadata": {},
     "output_type": "execute_result"
    },
    {
     "name": "stderr",
     "output_type": "stream",
     "text": [
      "/home/davidignacio/git/llm_examples/canopy_example/.venv/lib/python3.10/site-packages/gradio/helpers.py:825: UserWarning: Unexpected argument. Filling with None.\n",
      "  warnings.warn(\"Unexpected argument. Filling with None.\")\n"
     ]
    }
   ],
   "source": [
    "def generate(input, output):\n",
    "    return \"R:\"+input\n",
    "\n",
    "demo = gr.Interface(fn=generate, \n",
    "                    inputs=[gr.Textbox(label=\"Prompt\")], \n",
    "                    outputs=[gr.Textbox(label=\"Completion\")])\n",
    "\n",
    "gr.close_all()\n",
    "demo.launch(share=True, server_port=int(os.environ['PORT1']))"
   ]
  },
  {
   "cell_type": "code",
   "execution_count": null,
   "id": "1d4bc246-1760-42ab-b748-8941509795c7",
   "metadata": {},
   "outputs": [],
   "source": []
  },
  {
   "cell_type": "code",
   "execution_count": null,
   "id": "01184175-ac31-4f2c-acab-c4596a21b34f",
   "metadata": {},
   "outputs": [],
   "source": []
  }
 ],
 "metadata": {
  "kernelspec": {
   "display_name": "Python 3 (ipykernel)",
   "language": "python",
   "name": "python3"
  },
  "language_info": {
   "codemirror_mode": {
    "name": "ipython",
    "version": 3
   },
   "file_extension": ".py",
   "mimetype": "text/x-python",
   "name": "python",
   "nbconvert_exporter": "python",
   "pygments_lexer": "ipython3",
   "version": "3.10.13"
  }
 },
 "nbformat": 4,
 "nbformat_minor": 5
}
