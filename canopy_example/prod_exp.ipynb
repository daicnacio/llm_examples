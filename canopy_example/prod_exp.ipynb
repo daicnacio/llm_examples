{
 "cells": [
  {
   "cell_type": "code",
   "execution_count": 9,
   "id": "183cefe3-8ec0-4fb4-ad82-c526a4e79ffb",
   "metadata": {},
   "outputs": [],
   "source": [
    "import pandas as pd\n",
    "from dotenv import load_dotenv, find_dotenv\n",
    "import os\n",
    "\n",
    "from pinecone import PodSpec\n",
    "\n",
    "from canopy.tokenizer import Tokenizer\n",
    "\n",
    "from tqdm.auto import tqdm\n",
    "from canopy.knowledge_base import KnowledgeBase\n",
    "from canopy.models.data_models import Document\n",
    "from canopy.knowledge_base import list_canopy_indexes\n"
   ]
  },
  {
   "cell_type": "code",
   "execution_count": 2,
   "id": "eb814082-2270-4835-83e4-ab7d3217a67b",
   "metadata": {},
   "outputs": [],
   "source": [
    "load_dotenv(find_dotenv())\n",
    "PINECONE_API_KEY=os.getenv(\"PINECONE_API_KEY\")\n",
    "filepath_parquet=os.getenv(\"FILEPATH\")\n"
   ]
  },
  {
   "cell_type": "code",
   "execution_count": 3,
   "id": "2f8bb917-e5d2-4443-a3ef-b5792d035e60",
   "metadata": {},
   "outputs": [
    {
     "data": {
      "text/html": [
       "<div>\n",
       "<style scoped>\n",
       "    .dataframe tbody tr th:only-of-type {\n",
       "        vertical-align: middle;\n",
       "    }\n",
       "\n",
       "    .dataframe tbody tr th {\n",
       "        vertical-align: top;\n",
       "    }\n",
       "\n",
       "    .dataframe thead th {\n",
       "        text-align: right;\n",
       "    }\n",
       "</style>\n",
       "<table border=\"1\" class=\"dataframe\">\n",
       "  <thead>\n",
       "    <tr style=\"text-align: right;\">\n",
       "      <th></th>\n",
       "      <th>Handle</th>\n",
       "      <th>Body (HTML)</th>\n",
       "      <th>SEO Description</th>\n",
       "      <th>Variant Price</th>\n",
       "      <th>Body Filtered HTML</th>\n",
       "    </tr>\n",
       "  </thead>\n",
       "  <tbody>\n",
       "    <tr>\n",
       "      <th>0</th>\n",
       "      <td>bateria-np-f970-decodificada-para-luces-led-y-...</td>\n",
       "      <td>&lt;p&gt; &lt;/p&gt;\\n&lt;p&gt;Batería NP-F970 de la marca Ilumi...</td>\n",
       "      <td>None</td>\n",
       "      <td>32900.0</td>\n",
       "      <td>\\nBatería NP-F970 de la marca Iluminus. \\nCom...</td>\n",
       "    </tr>\n",
       "    <tr>\n",
       "      <th>1</th>\n",
       "      <td>cargador-de-baterias-serie-np-f-multifuncional...</td>\n",
       "      <td>&lt;p&gt;Presentamos el cargador de baterías multifu...</td>\n",
       "      <td>Cargador de baterías multifuncional NPF Ulanzi...</td>\n",
       "      <td>36900.0</td>\n",
       "      <td>Presentamos el cargador de baterías multifunci...</td>\n",
       "    </tr>\n",
       "    <tr>\n",
       "      <th>15</th>\n",
       "      <td>estabilizador-de-smartphone-zhiyun-smooth-q4-c...</td>\n",
       "      <td>&lt;p&gt; &lt;/p&gt;\\n&lt;p&gt;El estabilizador de cardán para s...</td>\n",
       "      <td>Agarre mejorado, diseño ergonómico. Zhiyun Smo...</td>\n",
       "      <td>189990.0</td>\n",
       "      <td>\\nEl estabilizador de cardán para smartphone ...</td>\n",
       "    </tr>\n",
       "    <tr>\n",
       "      <th>27</th>\n",
       "      <td>monopodo-de-video-xpro-de-4-secciones-con-base...</td>\n",
       "      <td>&lt;p&gt;El último monopié XPRO de aluminio de 4 sec...</td>\n",
       "      <td>El Monopodo MVMXPROA4 de Manfrotto es ideal pa...</td>\n",
       "      <td>244900.0</td>\n",
       "      <td>El último monopié XPRO de aluminio de 4 seccio...</td>\n",
       "    </tr>\n",
       "    <tr>\n",
       "      <th>30</th>\n",
       "      <td>monopodo-xpro-manfrotto-4-secciones-en-aluminio</td>\n",
       "      <td>&lt;p&gt;El revolucionario monópodp XPRO de 4 seccio...</td>\n",
       "      <td>Revoluciona tu fotografía con el monopié XPRO ...</td>\n",
       "      <td>133900.0</td>\n",
       "      <td>El revolucionario monópodp XPRO de 4 secciones...</td>\n",
       "    </tr>\n",
       "    <tr>\n",
       "      <th>...</th>\n",
       "      <td>...</td>\n",
       "      <td>...</td>\n",
       "      <td>...</td>\n",
       "      <td>...</td>\n",
       "      <td>...</td>\n",
       "    </tr>\n",
       "    <tr>\n",
       "      <th>2224</th>\n",
       "      <td>vijim-vl196-luz-led-multicolor-con-difusor-y-p...</td>\n",
       "      <td>&lt;p&gt;&lt;span style=\"font-size: 16px;\"&gt;&lt;strong&gt;&lt;spa...</td>\n",
       "      <td>None</td>\n",
       "      <td>84900.0</td>\n",
       "      <td>Gran rendimiento de color\\nEl panel de luz LED...</td>\n",
       "    </tr>\n",
       "    <tr>\n",
       "      <th>2241</th>\n",
       "      <td>ulanzi-pt-12-adaptador-triple-zapata-fria</td>\n",
       "      <td>&lt;ul&gt;\\n&lt;li&gt;Soporte de zapata fría estándar univ...</td>\n",
       "      <td>None</td>\n",
       "      <td>14900.0</td>\n",
       "      <td>\\nSoporte de zapata fría estándar universal\\nC...</td>\n",
       "    </tr>\n",
       "    <tr>\n",
       "      <th>2248</th>\n",
       "      <td>ulanzi-st-16-soporte-de-telefonos-metalico-mul...</td>\n",
       "      <td>&lt;p&gt;&lt;span style=\"font-family: Calibri, sans-ser...</td>\n",
       "      <td>None</td>\n",
       "      <td>36900.0</td>\n",
       "      <td>Soporte metálico para teléfonos en trípode, co...</td>\n",
       "    </tr>\n",
       "    <tr>\n",
       "      <th>2255</th>\n",
       "      <td>ulanzi-mt-11-tripode-flexible-para-camaras-reflex</td>\n",
       "      <td>&lt;p style=\"line-height: 107%; font-size: 15px; ...</td>\n",
       "      <td>None</td>\n",
       "      <td>24900.0</td>\n",
       "      <td>El trípode Ulanzi MT-11 Octopus admite cámaras...</td>\n",
       "    </tr>\n",
       "    <tr>\n",
       "      <th>2261</th>\n",
       "      <td>ulanzi-l1-pro-lampara-led-todo-terreno-para-ca...</td>\n",
       "      <td>&lt;p style=\"line-height: 107%; font-size: 15px; ...</td>\n",
       "      <td>None</td>\n",
       "      <td>32900.0</td>\n",
       "      <td>Luz LED con 4 niveles de potencia regulable, t...</td>\n",
       "    </tr>\n",
       "  </tbody>\n",
       "</table>\n",
       "<p>332 rows × 5 columns</p>\n",
       "</div>"
      ],
      "text/plain": [
       "                                                 Handle   \n",
       "0     bateria-np-f970-decodificada-para-luces-led-y-...  \\\n",
       "1     cargador-de-baterias-serie-np-f-multifuncional...   \n",
       "15    estabilizador-de-smartphone-zhiyun-smooth-q4-c...   \n",
       "27    monopodo-de-video-xpro-de-4-secciones-con-base...   \n",
       "30      monopodo-xpro-manfrotto-4-secciones-en-aluminio   \n",
       "...                                                 ...   \n",
       "2224  vijim-vl196-luz-led-multicolor-con-difusor-y-p...   \n",
       "2241          ulanzi-pt-12-adaptador-triple-zapata-fria   \n",
       "2248  ulanzi-st-16-soporte-de-telefonos-metalico-mul...   \n",
       "2255  ulanzi-mt-11-tripode-flexible-para-camaras-reflex   \n",
       "2261  ulanzi-l1-pro-lampara-led-todo-terreno-para-ca...   \n",
       "\n",
       "                                            Body (HTML)   \n",
       "0     <p> </p>\\n<p>Batería NP-F970 de la marca Ilumi...  \\\n",
       "1     <p>Presentamos el cargador de baterías multifu...   \n",
       "15    <p> </p>\\n<p>El estabilizador de cardán para s...   \n",
       "27    <p>El último monopié XPRO de aluminio de 4 sec...   \n",
       "30    <p>El revolucionario monópodp XPRO de 4 seccio...   \n",
       "...                                                 ...   \n",
       "2224  <p><span style=\"font-size: 16px;\"><strong><spa...   \n",
       "2241  <ul>\\n<li>Soporte de zapata fría estándar univ...   \n",
       "2248  <p><span style=\"font-family: Calibri, sans-ser...   \n",
       "2255  <p style=\"line-height: 107%; font-size: 15px; ...   \n",
       "2261  <p style=\"line-height: 107%; font-size: 15px; ...   \n",
       "\n",
       "                                        SEO Description  Variant Price   \n",
       "0                                                  None        32900.0  \\\n",
       "1     Cargador de baterías multifuncional NPF Ulanzi...        36900.0   \n",
       "15    Agarre mejorado, diseño ergonómico. Zhiyun Smo...       189990.0   \n",
       "27    El Monopodo MVMXPROA4 de Manfrotto es ideal pa...       244900.0   \n",
       "30    Revoluciona tu fotografía con el monopié XPRO ...       133900.0   \n",
       "...                                                 ...            ...   \n",
       "2224                                               None        84900.0   \n",
       "2241                                               None        14900.0   \n",
       "2248                                               None        36900.0   \n",
       "2255                                               None        24900.0   \n",
       "2261                                               None        32900.0   \n",
       "\n",
       "                                     Body Filtered HTML  \n",
       "0      \\nBatería NP-F970 de la marca Iluminus. \\nCom...  \n",
       "1     Presentamos el cargador de baterías multifunci...  \n",
       "15     \\nEl estabilizador de cardán para smartphone ...  \n",
       "27    El último monopié XPRO de aluminio de 4 seccio...  \n",
       "30    El revolucionario monópodp XPRO de 4 secciones...  \n",
       "...                                                 ...  \n",
       "2224  Gran rendimiento de color\\nEl panel de luz LED...  \n",
       "2241  \\nSoporte de zapata fría estándar universal\\nC...  \n",
       "2248  Soporte metálico para teléfonos en trípode, co...  \n",
       "2255  El trípode Ulanzi MT-11 Octopus admite cámaras...  \n",
       "2261  Luz LED con 4 niveles de potencia regulable, t...  \n",
       "\n",
       "[332 rows x 5 columns]"
      ]
     },
     "execution_count": 3,
     "metadata": {},
     "output_type": "execute_result"
    }
   ],
   "source": [
    "df=pd.read_parquet(filepath_parquet)\n",
    "df"
   ]
  },
  {
   "cell_type": "code",
   "execution_count": 4,
   "id": "7c4aee22-59e5-4625-af8a-934cf191d584",
   "metadata": {},
   "outputs": [],
   "source": [
    "spec = PodSpec(environment=\"gcp-starter\")"
   ]
  },
  {
   "cell_type": "code",
   "execution_count": 7,
   "id": "8e5c5acd-374a-40aa-babf-573944bc3666",
   "metadata": {},
   "outputs": [
    {
     "data": {
      "text/plain": [
       "['Hello', ' world', '!']"
      ]
     },
     "execution_count": 7,
     "metadata": {},
     "output_type": "execute_result"
    }
   ],
   "source": [
    "Tokenizer.initialize()\n",
    "tokenizer = Tokenizer()\n",
    "tokenizer.tokenize(\"Hello world!\")\n"
   ]
  },
  {
   "cell_type": "code",
   "execution_count": null,
   "id": "5b25a74a-8309-41ec-a2e1-62e7053400d0",
   "metadata": {},
   "outputs": [],
   "source": []
  },
  {
   "cell_type": "code",
   "execution_count": null,
   "id": "dbdfe418-3e8c-45c5-a9d5-a1863fdc073e",
   "metadata": {},
   "outputs": [],
   "source": [
    "\n"
   ]
  },
  {
   "cell_type": "code",
   "execution_count": null,
   "id": "5b377817-f7b5-47b8-a7a4-4db20c8ca5a9",
   "metadata": {},
   "outputs": [],
   "source": []
  },
  {
   "cell_type": "code",
   "execution_count": null,
   "id": "59c66e59-d180-44f4-87f9-d9d667e0b759",
   "metadata": {},
   "outputs": [],
   "source": [
    "\n"
   ]
  },
  {
   "cell_type": "code",
   "execution_count": null,
   "id": "f66fdbba-92f7-4614-b560-f6c760999d26",
   "metadata": {},
   "outputs": [],
   "source": []
  }
 ],
 "metadata": {
  "kernelspec": {
   "display_name": "Python 3 (ipykernel)",
   "language": "python",
   "name": "python3"
  },
  "language_info": {
   "codemirror_mode": {
    "name": "ipython",
    "version": 3
   },
   "file_extension": ".py",
   "mimetype": "text/x-python",
   "name": "python",
   "nbconvert_exporter": "python",
   "pygments_lexer": "ipython3",
   "version": "3.10.13"
  }
 },
 "nbformat": 4,
 "nbformat_minor": 5
}
