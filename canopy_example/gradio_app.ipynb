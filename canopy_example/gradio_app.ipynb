{
 "cells": [
  {
   "cell_type": "code",
   "execution_count": 1,
   "id": "60b25146-4dcc-48f7-9b65-ce55f198eec5",
   "metadata": {},
   "outputs": [],
   "source": [
    "import pandas as pd\n",
    "from dotenv import load_dotenv, find_dotenv\n",
    "import os\n",
    "from canopy.tokenizer import Tokenizer\n",
    "from canopy.knowledge_base import KnowledgeBase\n",
    "from canopy.models.data_models import Query\n",
    "from canopy.context_engine import ContextEngine\n",
    "from canopy.models.data_models import UserMessage,AssistantMessage\n",
    "import gradio as gr"
   ]
  },
  {
   "cell_type": "code",
   "execution_count": 2,
   "id": "68cd5240-4e79-481e-8c99-384fd0bdc78b",
   "metadata": {},
   "outputs": [],
   "source": [
    "load_dotenv(find_dotenv())\n",
    "gradio_port=os.getenv(\"PORT1\")\n",
    "index_name = \"pinecone-docs\"\n",
    "Tokenizer.initialize()\n",
    "\n",
    "kb = KnowledgeBase(index_name)\n",
    "context_engine = ContextEngine(kb)\n",
    "from canopy.chat_engine import ChatEngine\n",
    "chat_engine = ChatEngine(context_engine)\n",
    "kb.connect()"
   ]
  },
  {
   "cell_type": "code",
   "execution_count": 3,
   "id": "1895b092-1368-4e33-bcec-478e16ec6ffb",
   "metadata": {},
   "outputs": [],
   "source": [
    "def gradio_to_canopy(gradio_chatbot,message):\n",
    "    canopy_list=[]\n",
    "    last_message=UserMessage(content=message)\n",
    "    for turn in gradio_chatbot:\n",
    "        user_message, bot_message = turn\n",
    "        canopy_list.append(UserMessage(content=user_message))\n",
    "        canopy_list.append(AssistantMessage(content=bot_message))\n",
    "    canopy_list.append(last_message)\n",
    "    return canopy_list\n",
    "\n",
    "def respond(message, gradio_chatbot):\n",
    "        canopy_chat_history=gradio_to_canopy(gradio_chatbot,message)\n",
    "        chat_response=chat_engine.chat(canopy_chat_history)\n",
    "        bot_response=chat_response.choices[0].message #This is a canopy object\n",
    "        gradio_chatbot.append((message, bot_response.content))\n",
    "        return \"\", gradio_chatbot\n",
    "\n"
   ]
  },
  {
   "cell_type": "code",
   "execution_count": 4,
   "id": "1cce0394-c031-4d6c-ac52-7c1e64e133a5",
   "metadata": {},
   "outputs": [
    {
     "name": "stdout",
     "output_type": "stream",
     "text": [
      "Running on local URL:  http://127.0.0.1:8999\n",
      "Running on public URL: https://517683abf67f0da357.gradio.live\n",
      "\n",
      "This share link expires in 72 hours. For free permanent hosting and GPU upgrades, run `gradio deploy` from Terminal to deploy to Spaces (https://huggingface.co/spaces)\n"
     ]
    },
    {
     "data": {
      "text/html": [
       "<div><iframe src=\"https://517683abf67f0da357.gradio.live\" width=\"100%\" height=\"500\" allow=\"autoplay; camera; microphone; clipboard-read; clipboard-write;\" frameborder=\"0\" allowfullscreen></iframe></div>"
      ],
      "text/plain": [
       "<IPython.core.display.HTML object>"
      ]
     },
     "metadata": {},
     "output_type": "display_data"
    },
    {
     "data": {
      "text/plain": []
     },
     "execution_count": 4,
     "metadata": {},
     "output_type": "execute_result"
    }
   ],
   "source": [
    "with gr.Blocks() as demo:\n",
    "    chatbot = gr.Chatbot(height=240,show_copy_button=True) #just to fit the notebook\n",
    "    msg = gr.Textbox(label=\"Prompt\")\n",
    "    btn = gr.Button(\"Enviar\")\n",
    "    clear = gr.ClearButton(components=[msg, chatbot], value=\"Limpiar\")\n",
    "\n",
    "    btn.click(respond, inputs=[msg, chatbot], outputs=[msg, chatbot])\n",
    "    msg.submit(respond, inputs=[msg, chatbot], outputs=[msg, chatbot]) #Press enter to submit\n",
    "\n",
    "gr.close_all()\n",
    "demo.launch(share=True, server_port=int(os.environ['PORT1']))"
   ]
  },
  {
   "cell_type": "code",
   "execution_count": null,
   "id": "02c9dd37-029e-4099-84f2-9bd88f6de8f3",
   "metadata": {},
   "outputs": [],
   "source": []
  }
 ],
 "metadata": {
  "kernelspec": {
   "display_name": "Python 3 (ipykernel)",
   "language": "python",
   "name": "python3"
  },
  "language_info": {
   "codemirror_mode": {
    "name": "ipython",
    "version": 3
   },
   "file_extension": ".py",
   "mimetype": "text/x-python",
   "name": "python",
   "nbconvert_exporter": "python",
   "pygments_lexer": "ipython3",
   "version": "3.10.13"
  }
 },
 "nbformat": 4,
 "nbformat_minor": 5
}
