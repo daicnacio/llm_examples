{
 "cells": [
  {
   "cell_type": "code",
   "execution_count": 1,
   "id": "60b25146-4dcc-48f7-9b65-ce55f198eec5",
   "metadata": {},
   "outputs": [],
   "source": [
    "import pandas as pd\n",
    "from dotenv import load_dotenv, find_dotenv\n",
    "import os\n",
    "from canopy.tokenizer import Tokenizer\n",
    "from canopy.knowledge_base import KnowledgeBase\n",
    "from canopy.models.data_models import Query\n",
    "from canopy.context_engine import ContextEngine\n",
    "from canopy.models.data_models import UserMessage,AssistantMessage\n",
    "import gradio as gr"
   ]
  },
  {
   "cell_type": "code",
   "execution_count": 2,
   "id": "68cd5240-4e79-481e-8c99-384fd0bdc78b",
   "metadata": {},
   "outputs": [],
   "source": [
    "load_dotenv(find_dotenv())\n",
    "gradio_port=os.getenv(\"PORT1\")\n",
    "debug_mode=os.getenv(\"CANOPY_DEBUG_INFO\")\n",
    "index_name = \"pinecone-docs\"\n",
    "Tokenizer.initialize()\n",
    "\n",
    "kb = KnowledgeBase(index_name)\n",
    "context_engine = ContextEngine(kb)\n",
    "from canopy.chat_engine import ChatEngine\n",
    "chat_engine = ChatEngine(context_engine)\n",
    "kb.connect()"
   ]
  },
  {
   "cell_type": "code",
   "execution_count": 3,
   "id": "1895b092-1368-4e33-bcec-478e16ec6ffb",
   "metadata": {},
   "outputs": [],
   "source": [
    "def gradio_to_canopy(gradio_chatbot,message):\n",
    "    canopy_list=[]\n",
    "    last_message=UserMessage(content=message)\n",
    "    for turn in gradio_chatbot:\n",
    "        user_message, bot_message = turn\n",
    "        canopy_list.append(UserMessage(content=user_message))\n",
    "        canopy_list.append(AssistantMessage(content=bot_message))\n",
    "    canopy_list.append(last_message)\n",
    "    return canopy_list\n",
    "\n",
    "def format_debug_window(bot_response):\n",
    "    return f\"model:{bot_response.model}\\n\\\n",
    "    prompt tokens: {bot_response.usage.prompt_tokens}\\n\\\n",
    "    completion tokens: {bot_response.usage.completion_tokens}\\n\\\n",
    "    total tokens: {bot_response.usage.total_tokens}\\n\\\n",
    "    context: {bot_response.debug_info}\"\n",
    "\n",
    "\n",
    "def respond(message, gradio_chatbot):\n",
    "        canopy_chat_history=gradio_to_canopy(gradio_chatbot,message)\n",
    "        chat_response=chat_engine.chat(canopy_chat_history)\n",
    "        bot_response=chat_response.choices[0].message #This is a canopy object\n",
    "        gradio_chatbot.append((message, bot_response.content))\n",
    "        return \"\", gradio_chatbot,format_debug_window(chat_response)\n",
    "\n"
   ]
  },
  {
   "cell_type": "code",
   "execution_count": 4,
   "id": "1cce0394-c031-4d6c-ac52-7c1e64e133a5",
   "metadata": {},
   "outputs": [
    {
     "name": "stdout",
     "output_type": "stream",
     "text": [
      "Running on local URL:  http://127.0.0.1:8999\n",
      "\n",
      "To create a public link, set `share=True` in `launch()`.\n"
     ]
    },
    {
     "data": {
      "text/html": [
       "<div><iframe src=\"http://127.0.0.1:8999/\" width=\"100%\" height=\"500\" allow=\"autoplay; camera; microphone; clipboard-read; clipboard-write;\" frameborder=\"0\" allowfullscreen></iframe></div>"
      ],
      "text/plain": [
       "<IPython.core.display.HTML object>"
      ]
     },
     "metadata": {},
     "output_type": "display_data"
    },
    {
     "data": {
      "text/plain": []
     },
     "execution_count": 4,
     "metadata": {},
     "output_type": "execute_result"
    }
   ],
   "source": [
    "with gr.Blocks() as demo:\n",
    "    chatbot = gr.Chatbot(height=240,show_copy_button=True) #just to fit the notebook\n",
    "    msg = gr.Textbox(label=\"Prompt\")\n",
    "    btn = gr.Button(\"Enviar\")\n",
    "    clear = gr.ClearButton(components=[msg, chatbot], value=\"Limpiar\")\n",
    "    debug = gr.Textbox(label=\"Debug\")\n",
    "    btn.click(respond, inputs=[msg, chatbot], outputs=[msg, chatbot, debug])\n",
    "    msg.submit(respond, inputs=[msg, chatbot], outputs=[msg, chatbot, debug]) #Press enter to submit\n",
    "\n",
    "gr.close_all()\n",
    "demo.launch(share=False, server_port=int(os.environ['PORT1']))"
   ]
  },
  {
   "cell_type": "code",
   "execution_count": 9,
   "id": "02c9dd37-029e-4099-84f2-9bd88f6de8f3",
   "metadata": {},
   "outputs": [],
   "source": [
    "test_chat=[UserMessage(content=\"Tienes micro convertidores?\")]\n",
    "chat_response=chat_engine.chat(test_chat)\n",
    "                              "
   ]
  },
  {
   "cell_type": "code",
   "execution_count": 5,
   "id": "eded0093-419a-474d-ba0b-e3cb0a9f072b",
   "metadata": {},
   "outputs": [
    {
     "data": {
      "text/plain": [
       "'true'"
      ]
     },
     "execution_count": 5,
     "metadata": {},
     "output_type": "execute_result"
    }
   ],
   "source": [
    "str(chat_response)"
   ]
  },
  {
   "cell_type": "code",
   "execution_count": 6,
   "id": "a71512ed-b009-4cfc-a12f-7145e18ab116",
   "metadata": {},
   "outputs": [
    {
     "name": "stdout",
     "output_type": "stream",
     "text": [
      "TRUE\n"
     ]
    }
   ],
   "source": [
    "if debug_mode:\n",
    "    print(\"TRUE\")"
   ]
  },
  {
   "cell_type": "code",
   "execution_count": 11,
   "id": "90a8ec4f-6e5d-40a6-8d91-7579a8e07b36",
   "metadata": {},
   "outputs": [
    {
     "data": {
      "text/plain": [
       "Context(content=StuffingContextContent(root=[ContextQueryResult(query='Micro convertidores disponibles en el mercado', snippets=[ContextSnippet(source='https://contentia.cl/products/micro-convertidor-bidireccional-sdi-hdmi-3g-con-fuente-de-alimentacion', text='resistentes. Un puerto USB tipo C permite que el convertidor bidireccional SDI/HDMI se conecte fácilmente y sea alimentado por monitores de pantalla grande, computadoras portátiles, computadoras de escritorio o proyectores. También puede alimentar este convertidor utilizando la fuente de alimentación de 100-240 VCA incluida, completa con cuatro adaptadores de enchufe internacionales.'), ContextSnippet(source='https://contentia.cl/products/micro-convertidor-hdmi-a-sdi-3g-con-fuente-de-alimentacion', text='Súper compacto y resistente, el Micro Converter SDI a HDMI 3G de Blackmagic Design le permite usar monitores y televisores con entrada HDMI para monitorear la producción. Este convertidor compacto tiene una entrada SD/HD/3G-SDI, una salida HDMI y una salida de bucle SD/HD/3G-SDI. Incluye una LUT 3D de 17 puntos que se puede usar para calibrar monitores con entrada HDMI o SDI y puede generar una LUT para ver a través de la salida de bucle SDI. El Micro Converter SDI a HDMI 3G también cuenta con detección automática de SD, HD y SDI de nivel A y B y es compatible con una amplia gama de resoluciones de transmisión profesional, incluido el estilo cinematográfico de 48 fps.Este convertidor de bolsillo cuenta con una carcasa de metal resistente con indicadores LED de estado de alimentación y señal e interfaces de conector resistentes. Un puerto USB Tipo-C permite que el convertidor SDI a HDMI 3G se conecte fácilmente y sea alimentado por monitores'), ContextSnippet(source='https://contentia.cl/products/micro-convertidor-sdi-a-hdmi-3g', text='Súper compacto y resistente, el Micro Converter SDI a HDMI 3G de Blackmagic Design le permite usar monitores y televisores con entrada HDMI para monitorear la producción. Este convertidor compacto tiene una entrada SD/HD/3G-SDI, una salida HDMI y una salida de bucle SD/HD/3G-SDI. Incluye una LUT 3D de 17 puntos que se puede usar para calibrar monitores con entrada HDMI o SDI y puede generar una LUT para ver a través de la salida de bucle SDI. El Micro Converter SDI a HDMI 3G también cuenta con detección automática de SD, HD y SDI de nivel A y B y es compatible con una amplia gama de resoluciones de transmisión profesional, incluido el estilo cinematográfico de 48 fps.Este convertidor de bolsillo cuenta con una carcasa de metal resistente con indicadores LED de estado de alimentación y señal e interfaces de conector resistentes. Un puerto USB Tipo-C permite que el convertidor SDI a HDMI 3G se conecte fácilmente y sea alimentado por monitores'), ContextSnippet(source='https://contentia.cl/products/micro-convertidor-hdmi-a-sdi-3g', text='Un puerto USB tipo C permite que el convertidor de HDMI a SDI 3G se conecte fácilmente y sea alimentado por monitores de pantalla grande, computadoras portátiles, computadoras de escritorio o proyectores.\\nTambién puede alimentar este convertidor con una fuente de alimentación de 100-240 VCA disponible por separado, completa con cuatro adaptadores de enchufe internacionales.\\nSalidas SDI duales')]), ContextQueryResult(query='Diferentes tipos de micro convertidores', snippets=[ContextSnippet(source='https://contentia.cl/products/micro-convertidor-hdmi-a-sdi-3g', text='Súper compacto y resistente, el Micro Converter HDMI to SDI 3G de Blackmagic Design le permite vincular cámaras o computadoras HDMI a monitores o componentes SDI (BNC) de estilo profesional.\\nTambién puede usar varias unidades para extender HDMI a largas distancias usando un cable SDI.\\nEste convertidor compacto tiene una entrada HDMI y dos salidas 3G-SD/HD/SDI que se pueden configurar en el nivel A o B.\\nDetecta automáticamente y hace coincidir su entrada HDMI con la salida SDI y es compatible con resoluciones de entrada/salida de hasta 1080p60.\\nEl Micro Converter HDMI a SDI 3G cuenta con soporte de código de tiempo HDMI, sincronización SDI para mayor estabilidad en largas tiradas de cable y soporte para una amplia gama de resoluciones de transmisión profesional, incluido el estilo cinematográfico de 48 fps.Este convertidor de bolsillo cuenta con una carcasa de metal resistente con indicadores LED de estado de alimentación y señal e interfaces de conector resistentes.'), ContextSnippet(source='https://contentia.cl/products/micro-convertidor-bidireccional-sdi-hdmi-12g-con-fuente-de-alimentacion', text='Combine fácilmente componentes SDI y HDMI en su configuración de video con el Micro Converter BiDirectional SDI/HDMI 12G de Blackmagic Design. Este convertidor bidireccional compacto puede convertir SDI a HDMI y HDMI a SDI en todos los formatos SD, HD y UHD hasta 2160p60. Dado que cada dirección de conversión puede ser un estándar de video SD, HD o UHD diferente, es como tener dos convertidores en uno. También ofrece conversión de control de cámara para cámaras Blackmagic HDMI como Pocket Cinema Camera 4K o 6K, lo que le permite usarlas con un conmutador en vivo basado en SDI.El microconvertidor bidireccional SDI/HDMI 12G de tamaño de bolsillo cuenta con soporte de código de tiempo HDMI, sincronización SDI para mayor estabilidad en largas tiradas de cable, soporte para una amplia gama de resoluciones de transmisión profesional, incluyendo estilo cine 48 fps, y HDMI y SDI integrados entrada y salida de audio. Este convertidor cuenta con una carcasa de metal resistente con indicadores LED'), ContextSnippet(source='https://contentia.cl/products/micro-convertidor-hdmi-a-sdi-12g-con-fuente-de-alimentacion', text='Súper compacto y resistente, el Micro Converter HDMI to SDI 12G de Blackmagic Design le permite vincular cámaras o computadoras HDMI a monitores o componentes SDI (BNC) de estilo profesional. También puede usar varias unidades para extender HDMI a largas distancias, usando un cable SDI. Este convertidor compacto tiene una entrada HDMI y dos salidas 12G-SDI, y se pueden configurar en el nivel A o B cuando se usa 3G-SDI. Detecta automáticamente y hace coincidir su entrada HDMI con la salida SDI y es compatible con resoluciones de entrada/salida de hasta DCI/UHD 4K60.El Micro Converter HDMI a SDI 12G de tamaño de bolsillo cuenta con compatibilidad con código de tiempo HDMI, sincronización SDI para mayor estabilidad en largas tiradas de cable, protección contra copia HDMI y compatibilidad con una amplia gama de resoluciones de transmisión profesional, incluido el estilo cinematográfico de 48 fps. El convertidor cuenta con una carcasa de metal resistente con indicadores LED de estado de alimentación y señal e'), ContextSnippet(source='https://contentia.cl/products/micro-convertidor-bidireccional-sdi-hdmi-3g-con-fuente-de-alimentacion', text='Combine fácilmente componentes SDI y HDMI en su configuración de video con el Micro Converter BiDirectional SDI/HDMI 3G de Blackmagic Design. Este conversor bidireccional compacto puede convertir simultáneamente SDI a HDMI y viceversa, incluso cuando se utilizan diferentes estándares, y admite resoluciones de hasta DCI 2K en SDI y 1080p60 en HDMI. También ofrece conversión de control de cámara para cámaras Blackmagic HDMI como la BMPCC 4K o 6K, lo que le permite usarlas con un conmutador en vivo basado en SDI. El microconvertidor bidireccional SDI/HDMI 3G cuenta con soporte de código de tiempo HDMI, sincronización SDI para mayor estabilidad en largas tiradas de cable, soporte para una amplia gama de resoluciones de transmisión profesional que incluyen 48 fps estilo cine, y entrada y salida de audio integrado HDMI y SDI .Este convertidor de bolsillo cuenta con una carcasa de metal resistente con indicadores LED de estado de alimentación y señal e interfaces de conector')]), ContextQueryResult(query='Funciones de los micro convertidores', snippets=[ContextSnippet(source='https://contentia.cl/products/micro-convertidor-hdmi-a-sdi-12g', text='Súper compacto y resistente, el Micro Converter HDMI to SDI 12G de Blackmagic Design le permite vincular cámaras o computadoras HDMI a monitores o componentes SDI (BNC) de estilo profesional. También puede usar varias unidades para extender HDMI a largas distancias, usando un cable SDI. Este convertidor compacto tiene una entrada HDMI y dos salidas 12G-SDI, y se pueden configurar en el nivel A o B cuando se usa 3G-SDI. Detecta automáticamente y hace coincidir su entrada HDMI con la salida SDI y es compatible con resoluciones de entrada/salida de hasta DCI/UHD 4K60.El Micro Converter HDMI a SDI 12G de tamaño de bolsillo cuenta con compatibilidad con código de tiempo HDMI, sincronización SDI para mayor estabilidad en largas tiradas de cable, protección contra copia HDMI y compatibilidad con una amplia gama de resoluciones de transmisión profesional, incluido el estilo cinematográfico de 48 fps. El convertidor cuenta con una carcasa de metal resistente con indicadores LED de estado de alimentación y señal e')])]), num_tokens=2782, debug_info={})"
      ]
     },
     "execution_count": 11,
     "metadata": {},
     "output_type": "execute_result"
    }
   ],
   "source": [
    "context_obj=chat_engine._get_context(test_chat)\n",
    "context_obj"
   ]
  },
  {
   "cell_type": "code",
   "execution_count": 12,
   "id": "48c64a25-9b1e-4db2-abc2-532895a14a79",
   "metadata": {},
   "outputs": [
    {
     "data": {
      "text/plain": [
       "canopy.models.data_models.Context"
      ]
     },
     "execution_count": 12,
     "metadata": {},
     "output_type": "execute_result"
    }
   ],
   "source": [
    "type(context_obj)"
   ]
  },
  {
   "cell_type": "code",
   "execution_count": 19,
   "id": "14e98cd7-b85e-4881-9a16-07d268ffa1ea",
   "metadata": {},
   "outputs": [
    {
     "data": {
      "text/plain": [
       "ContextSnippet(source='https://contentia.cl/products/micro-convertidor-hdmi-a-sdi-3g', text='Súper compacto y resistente, el Micro Converter HDMI to SDI 3G de Blackmagic Design le permite vincular cámaras o computadoras HDMI a monitores o componentes SDI (BNC) de estilo profesional.\\nTambién puede usar varias unidades para extender HDMI a largas distancias usando un cable SDI.\\nEste convertidor compacto tiene una entrada HDMI y dos salidas 3G-SD/HD/SDI que se pueden configurar en el nivel A o B.\\nDetecta automáticamente y hace coincidir su entrada HDMI con la salida SDI y es compatible con resoluciones de entrada/salida de hasta 1080p60.\\nEl Micro Converter HDMI a SDI 3G cuenta con soporte de código de tiempo HDMI, sincronización SDI para mayor estabilidad en largas tiradas de cable y soporte para una amplia gama de resoluciones de transmisión profesional, incluido el estilo cinematográfico de 48 fps.Este convertidor de bolsillo cuenta con una carcasa de metal resistente con indicadores LED de estado de alimentación y señal e interfaces de conector resistentes.')"
      ]
     },
     "execution_count": 19,
     "metadata": {},
     "output_type": "execute_result"
    }
   ],
   "source": [
    "context_obj.content.root[1].snippets[0]"
   ]
  },
  {
   "cell_type": "code",
   "execution_count": 17,
   "id": "f2d995d3-b48d-45dc-9c53-4805b02303fd",
   "metadata": {},
   "outputs": [
    {
     "data": {
      "text/plain": [
       "ContextQueryResult(query='Micro convertidores disponibles en el mercado', snippets=[ContextSnippet(source='https://contentia.cl/products/micro-convertidor-bidireccional-sdi-hdmi-3g-con-fuente-de-alimentacion', text='resistentes. Un puerto USB tipo C permite que el convertidor bidireccional SDI/HDMI se conecte fácilmente y sea alimentado por monitores de pantalla grande, computadoras portátiles, computadoras de escritorio o proyectores. También puede alimentar este convertidor utilizando la fuente de alimentación de 100-240 VCA incluida, completa con cuatro adaptadores de enchufe internacionales.'), ContextSnippet(source='https://contentia.cl/products/micro-convertidor-hdmi-a-sdi-3g-con-fuente-de-alimentacion', text='Súper compacto y resistente, el Micro Converter SDI a HDMI 3G de Blackmagic Design le permite usar monitores y televisores con entrada HDMI para monitorear la producción. Este convertidor compacto tiene una entrada SD/HD/3G-SDI, una salida HDMI y una salida de bucle SD/HD/3G-SDI. Incluye una LUT 3D de 17 puntos que se puede usar para calibrar monitores con entrada HDMI o SDI y puede generar una LUT para ver a través de la salida de bucle SDI. El Micro Converter SDI a HDMI 3G también cuenta con detección automática de SD, HD y SDI de nivel A y B y es compatible con una amplia gama de resoluciones de transmisión profesional, incluido el estilo cinematográfico de 48 fps.Este convertidor de bolsillo cuenta con una carcasa de metal resistente con indicadores LED de estado de alimentación y señal e interfaces de conector resistentes. Un puerto USB Tipo-C permite que el convertidor SDI a HDMI 3G se conecte fácilmente y sea alimentado por monitores'), ContextSnippet(source='https://contentia.cl/products/micro-convertidor-sdi-a-hdmi-3g', text='Súper compacto y resistente, el Micro Converter SDI a HDMI 3G de Blackmagic Design le permite usar monitores y televisores con entrada HDMI para monitorear la producción. Este convertidor compacto tiene una entrada SD/HD/3G-SDI, una salida HDMI y una salida de bucle SD/HD/3G-SDI. Incluye una LUT 3D de 17 puntos que se puede usar para calibrar monitores con entrada HDMI o SDI y puede generar una LUT para ver a través de la salida de bucle SDI. El Micro Converter SDI a HDMI 3G también cuenta con detección automática de SD, HD y SDI de nivel A y B y es compatible con una amplia gama de resoluciones de transmisión profesional, incluido el estilo cinematográfico de 48 fps.Este convertidor de bolsillo cuenta con una carcasa de metal resistente con indicadores LED de estado de alimentación y señal e interfaces de conector resistentes. Un puerto USB Tipo-C permite que el convertidor SDI a HDMI 3G se conecte fácilmente y sea alimentado por monitores'), ContextSnippet(source='https://contentia.cl/products/micro-convertidor-hdmi-a-sdi-3g', text='Un puerto USB tipo C permite que el convertidor de HDMI a SDI 3G se conecte fácilmente y sea alimentado por monitores de pantalla grande, computadoras portátiles, computadoras de escritorio o proyectores.\\nTambién puede alimentar este convertidor con una fuente de alimentación de 100-240 VCA disponible por separado, completa con cuatro adaptadores de enchufe internacionales.\\nSalidas SDI duales')])"
      ]
     },
     "execution_count": 17,
     "metadata": {},
     "output_type": "execute_result"
    }
   ],
   "source": [
    "context_obj.content.root[0]"
   ]
  },
  {
   "cell_type": "code",
   "execution_count": null,
   "id": "236c80e3-8162-41a5-8e20-202f38d8acc1",
   "metadata": {},
   "outputs": [],
   "source": []
  }
 ],
 "metadata": {
  "kernelspec": {
   "display_name": "Python 3 (ipykernel)",
   "language": "python",
   "name": "python3"
  },
  "language_info": {
   "codemirror_mode": {
    "name": "ipython",
    "version": 3
   },
   "file_extension": ".py",
   "mimetype": "text/x-python",
   "name": "python",
   "nbconvert_exporter": "python",
   "pygments_lexer": "ipython3",
   "version": "3.10.13"
  }
 },
 "nbformat": 4,
 "nbformat_minor": 5
}
