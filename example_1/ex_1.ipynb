{
 "cells": [
  {
   "cell_type": "code",
   "execution_count": null,
   "id": "3f67b13c-2b27-4099-a560-21a22208fb6a",
   "metadata": {},
   "outputs": [],
   "source": [
    "from pathlib import Path\n",
    "import os\n",
    "import pandas as pd\n",
    "# it can be ServerlessSpec or PodSpec\n",
    "from pinecone import Pinecone,PodSpec\n",
    "from dotenv import load_dotenv, find_dotenv\n",
    "from sentence_transformers import SentenceTransformer\n",
    "from tqdm.auto import tqdm"
   ]
  },
  {
   "cell_type": "markdown",
   "id": "bd44149c-07b2-4560-9d43-01a3327f919e",
   "metadata": {},
   "source": [
    "## Setup Variables"
   ]
  },
  {
   "cell_type": "code",
   "execution_count": null,
   "id": "c4deb8f3-773b-4ddc-8afe-b39f0c78164d",
   "metadata": {},
   "outputs": [],
   "source": [
    "load_dotenv(find_dotenv())\n",
    "PINECONE_API_KEY=os.getenv(\"PINECONE_API_KEY\")\n",
    "filepath_csv=os.getenv(\"FILEPATH\")\n"
   ]
  },
  {
   "cell_type": "markdown",
   "id": "0a86cf1e-aec7-4e2e-859f-f7609b4f1318",
   "metadata": {},
   "source": [
    "## Prepare the data to be upserted"
   ]
  },
  {
   "cell_type": "code",
   "execution_count": null,
   "id": "ebe5a562-5e2d-4f72-8b74-ca628c480fbe",
   "metadata": {},
   "outputs": [],
   "source": [
    "w_df=pd.read_csv(filepath_csv,delimiter=\";\")\n",
    "text_list=w_df[\"item\"].tolist()\n",
    "metadata_list=w_df[[\"estantería\",\"repisa\",\"caja\"]].to_dict(\"records\")"
   ]
  },
  {
   "cell_type": "code",
   "execution_count": null,
   "id": "756fad0f-c722-4a6c-9a3f-db1dc5dbf527",
   "metadata": {},
   "outputs": [],
   "source": []
  },
  {
   "cell_type": "markdown",
   "id": "9ef2fbaf-62e2-4ad4-986e-82c9d36b1333",
   "metadata": {},
   "source": [
    "## Setup Sentence Transformer Model"
   ]
  },
  {
   "cell_type": "code",
   "execution_count": null,
   "id": "71831963-1da2-40a7-9ec7-f9320731ec99",
   "metadata": {},
   "outputs": [],
   "source": [
    "# a model that works in Spanish\n",
    "model = SentenceTransformer(\"sentence-transformers/paraphrase-multilingual-MiniLM-L12-v2\",device=\"cpu\")"
   ]
  },
  {
   "cell_type": "markdown",
   "id": "30501cc4-c316-4779-9e91-605b6f8c7a7e",
   "metadata": {},
   "source": [
    "## Setup Pinecone"
   ]
  },
  {
   "cell_type": "code",
   "execution_count": null,
   "id": "a784e1ac-6c4d-47e9-86be-5c7f0df50032",
   "metadata": {},
   "outputs": [],
   "source": [
    "pinecone = Pinecone(api_key=PINECONE_API_KEY)\n",
    "index_name=\"david-warehouse\"\n",
    "if index_name in [index.name for index in pinecone.list_indexes()]:\n",
    "    pinecone.delete_index(index_name)\n",
    "#serverless\n",
    "# pinecone.create_index(name=index_name, \n",
    "#    dimension=model.get_sentence_embedding_dimension(), \n",
    "#    metric='cosine',\n",
    "#    spec=ServerlessSpec(cloud='aws', region='us-west-2'))\n",
    "\n",
    "#podspec , free starter index\n",
    "pinecone.create_index(\n",
    " name=index_name,\n",
    " dimension=model.get_sentence_embedding_dimension(),\n",
    " metric=\"cosine\",\n",
    " spec=PodSpec(\n",
    "   environment=\"gcp-starter\"\n",
    " )\n",
    ")\n",
    "index = pinecone.Index(index_name)\n"
   ]
  },
  {
   "cell_type": "code",
   "execution_count": null,
   "id": "77a2204e-60ed-4082-8563-75222c0f8608",
   "metadata": {},
   "outputs": [],
   "source": [
    "dense_vec = model.encode([text_list[0]])\n"
   ]
  },
  {
   "cell_type": "code",
   "execution_count": null,
   "id": "67571205-8e0e-480c-bf04-bfaab9cd758c",
   "metadata": {},
   "outputs": [],
   "source": [
    "# Upsert data\n",
    "batch_size=10\n",
    "for i in tqdm(range(0, len(w_df), batch_size)):\n",
    "    # find end of batch\n",
    "    i_end = min(i+batch_size, len(w_df))\n",
    "    # create IDs batch\n",
    "    ids = [str(x) for x in range(i, i_end)]\n",
    "    # create metadata batch\n",
    "    entries = text_list[i:i_end]\n",
    "    metadata = metadata_list[i:i_end]\n",
    "    # create embeddings\n",
    "    encodings = model.encode(entries)\n",
    "    # create records list for upsert\n",
    "    records = zip(ids, encodings, metadata)\n",
    "    # upsert to Pinecone\n",
    "    index.upsert(vectors=records)"
   ]
  },
  {
   "cell_type": "code",
   "execution_count": null,
   "id": "35f27364-928b-49dc-954e-c909b043b5cb",
   "metadata": {},
   "outputs": [],
   "source": [
    "index.describe_index_stats()"
   ]
  },
  {
   "cell_type": "code",
   "execution_count": null,
   "id": "13061551-4de0-488e-ad22-0951968ec385",
   "metadata": {},
   "outputs": [],
   "source": [
    "def run_query(query):\n",
    "  embedding = model.encode(query).tolist()\n",
    "  results = index.query(top_k=10, vector=embedding, include_metadata=True, include_values=False)\n",
    "  for result in results['matches']:\n",
    "      estanteria=result['metadata']['estantería']\n",
    "      repisa=result['metadata']['repisa']\n",
    "      caja=result['metadata']['caja']\n",
    "      text_idx = int(result[\"id\"])\n",
    "      print(f\"{round(result['score'], 2)}: Estanteria {estanteria}, repisa {repisa}, caja {caja} - {text_list[text_idx]}\")\n",
    "  return results\n"
   ]
  },
  {
   "cell_type": "code",
   "execution_count": null,
   "id": "289be24e-3cea-40d1-adca-8b652a01ffce",
   "metadata": {},
   "outputs": [],
   "source": [
    "my_result = run_query(\"mochila\")"
   ]
  },
  {
   "cell_type": "code",
   "execution_count": null,
   "id": "1d33ef6d-979c-4533-909d-e9ec81362299",
   "metadata": {},
   "outputs": [],
   "source": []
  },
  {
   "cell_type": "code",
   "execution_count": null,
   "id": "ebd750cc-b040-44d8-9ec3-b1f8a5340981",
   "metadata": {},
   "outputs": [],
   "source": []
  },
  {
   "cell_type": "code",
   "execution_count": null,
   "id": "f08aa531-89b9-4c50-b285-b8936943d9e4",
   "metadata": {},
   "outputs": [],
   "source": []
  },
  {
   "cell_type": "code",
   "execution_count": null,
   "id": "5f441e79-b15a-4bbb-a61e-97a1f03d83f5",
   "metadata": {},
   "outputs": [],
   "source": []
  },
  {
   "cell_type": "code",
   "execution_count": null,
   "id": "6b0880c1-0559-4ea4-bbe7-b9d588968c78",
   "metadata": {},
   "outputs": [],
   "source": []
  },
  {
   "cell_type": "code",
   "execution_count": null,
   "id": "4f51793d-916e-451c-9542-b85ddaf9762e",
   "metadata": {},
   "outputs": [],
   "source": []
  },
  {
   "cell_type": "code",
   "execution_count": null,
   "id": "1ef83cf9-ede5-4ba0-8445-61b9d9753957",
   "metadata": {},
   "outputs": [],
   "source": []
  }
 ],
 "metadata": {
  "kernelspec": {
   "display_name": "Python 3 (ipykernel)",
   "language": "python",
   "name": "python3"
  },
  "language_info": {
   "codemirror_mode": {
    "name": "ipython",
    "version": 3
   },
   "file_extension": ".py",
   "mimetype": "text/x-python",
   "name": "python",
   "nbconvert_exporter": "python",
   "pygments_lexer": "ipython3",
   "version": "3.10.13"
  }
 },
 "nbformat": 4,
 "nbformat_minor": 5
}
