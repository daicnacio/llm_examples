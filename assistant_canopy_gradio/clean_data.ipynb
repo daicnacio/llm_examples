{
 "cells": [
  {
   "cell_type": "code",
   "execution_count": 1,
   "id": "00da9b32-f479-4611-90a7-8d9f3f4bbe7f",
   "metadata": {},
   "outputs": [],
   "source": [
    "import pandas as pd\n",
    "from bs4 import BeautifulSoup\n",
    "from dotenv import load_dotenv, find_dotenv\n",
    "import os"
   ]
  },
  {
   "cell_type": "code",
   "execution_count": 5,
   "id": "c8559ba6-a353-4af6-bcee-0efe5628e229",
   "metadata": {},
   "outputs": [],
   "source": [
    "load_dotenv(find_dotenv())\n",
    "filepath_parquet=os.getenv(\"FILEPATH_PARQUET\")\n",
    "filepath_csv_products=os.getenv(\"FILEPATH_CSV_PRODUCTS\")\n",
    "filepath_csv_extras=os.getenv(\"FILEPATH_CSV_EXTRAS\")\n",
    "base_url=os.getenv(\"BASE_URL\")\n",
    "\n",
    "def html_to_text(text):\n",
    "    soup = BeautifulSoup(text)\n",
    "    return soup.get_text()\n",
    "\n",
    "def append_products(text):\n",
    "    return base_url+\"products/\"+text\n",
    "def append_extras(text):\n",
    "    return base_url+text\n",
    "\n",
    "\n",
    "def pandas_with_text(filepath):\n",
    "    df=pd.read_csv(filepath)\n",
    "    df_filtered=df[~df[\"Body (HTML)\"].isnull()][[\"Handle\",\"Body (HTML)\",\"SEO Description\",\"Variant Price\"]]\n",
    "    df_filtered[\"text\"]=df_filtered[\"Body (HTML)\"].apply(html_to_text)\n",
    "    df_filtered[\"source\"]=df_filtered[\"Handle\"].apply(append_source)\n",
    "    df_filtered=df_filtered.rename(columns={\"Handle\":\"id\"})\n",
    "    return df_filtered[[\"id\",\"text\",\"source\"]]\n",
    "\n",
    "\n",
    "\n",
    "\n"
   ]
  },
  {
   "cell_type": "code",
   "execution_count": 12,
   "id": "afb14e9b-2889-4eec-b2ec-76ea8249d862",
   "metadata": {},
   "outputs": [],
   "source": [
    "df_products=pandas_with_text(filepath_csv_products)"
   ]
  },
  {
   "cell_type": "code",
   "execution_count": 13,
   "id": "099476be-6448-4ae9-a77d-b122278b5b57",
   "metadata": {},
   "outputs": [],
   "source": [
    "df_extras=pd.read_csv(filepath_csv_extras)\n",
    "df_extras[\"source\"]=df_extras[\"id\"].apply(append_extras)"
   ]
  },
  {
   "cell_type": "code",
   "execution_count": 14,
   "id": "5a71aab9-ce0c-49b6-8618-970f5caa0a9c",
   "metadata": {},
   "outputs": [],
   "source": [
    "df_all=pd.concat([df_products,df_extras]).reset_index(drop=True)\n",
    "df_all.to_parquet(filepath_parquet)"
   ]
  },
  {
   "cell_type": "code",
   "execution_count": null,
   "id": "d93d9c49-1c3f-4fbe-ab35-feac58e180bf",
   "metadata": {},
   "outputs": [],
   "source": []
  }
 ],
 "metadata": {
  "kernelspec": {
   "display_name": "Python 3 (ipykernel)",
   "language": "python",
   "name": "python3"
  },
  "language_info": {
   "codemirror_mode": {
    "name": "ipython",
    "version": 3
   },
   "file_extension": ".py",
   "mimetype": "text/x-python",
   "name": "python",
   "nbconvert_exporter": "python",
   "pygments_lexer": "ipython3",
   "version": "3.10.13"
  }
 },
 "nbformat": 4,
 "nbformat_minor": 5
}
