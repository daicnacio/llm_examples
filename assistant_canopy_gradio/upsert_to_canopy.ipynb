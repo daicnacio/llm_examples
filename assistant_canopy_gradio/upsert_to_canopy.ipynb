{
 "cells": [
  {
   "cell_type": "code",
   "execution_count": 1,
   "id": "183cefe3-8ec0-4fb4-ad82-c526a4e79ffb",
   "metadata": {},
   "outputs": [],
   "source": [
    "import pandas as pd\n",
    "from dotenv import load_dotenv, find_dotenv\n",
    "import os\n",
    "import pinecone\n",
    "from pinecone import PodSpec\n",
    "\n",
    "from canopy.tokenizer import Tokenizer\n",
    "\n",
    "from tqdm.auto import tqdm\n",
    "from canopy.knowledge_base import KnowledgeBase\n",
    "from canopy.models.data_models import Document\n",
    "from canopy.knowledge_base import list_canopy_indexes\n",
    "\n"
   ]
  },
  {
   "cell_type": "code",
   "execution_count": 2,
   "id": "eb814082-2270-4835-83e4-ab7d3217a67b",
   "metadata": {},
   "outputs": [],
   "source": [
    "load_dotenv(find_dotenv())\n",
    "PINECONE_API_KEY=os.getenv(\"PINECONE_API_KEY\")\n",
    "filepath_parquet=os.getenv(\"FILEPATH_PARQUET\")\n"
   ]
  },
  {
   "cell_type": "code",
   "execution_count": 3,
   "id": "2f8bb917-e5d2-4443-a3ef-b5792d035e60",
   "metadata": {},
   "outputs": [
    {
     "data": {
      "text/html": [
       "<div>\n",
       "<style scoped>\n",
       "    .dataframe tbody tr th:only-of-type {\n",
       "        vertical-align: middle;\n",
       "    }\n",
       "\n",
       "    .dataframe tbody tr th {\n",
       "        vertical-align: top;\n",
       "    }\n",
       "\n",
       "    .dataframe thead th {\n",
       "        text-align: right;\n",
       "    }\n",
       "</style>\n",
       "<table border=\"1\" class=\"dataframe\">\n",
       "  <thead>\n",
       "    <tr style=\"text-align: right;\">\n",
       "      <th></th>\n",
       "      <th>id</th>\n",
       "      <th>text</th>\n",
       "      <th>source</th>\n",
       "    </tr>\n",
       "  </thead>\n",
       "  <tbody>\n",
       "    <tr>\n",
       "      <th>0</th>\n",
       "      <td>bateria-np-f970-decodificada-para-luces-led-y-...</td>\n",
       "      <td>\\nBatería NP-F970 de la marca Iluminus. \\nCom...</td>\n",
       "      <td>https://contentia.cl/products/bateria-np-f970-...</td>\n",
       "    </tr>\n",
       "    <tr>\n",
       "      <th>1</th>\n",
       "      <td>cargador-de-baterias-serie-np-f-multifuncional...</td>\n",
       "      <td>Presentamos el cargador de baterías multifunci...</td>\n",
       "      <td>https://contentia.cl/products/cargador-de-bate...</td>\n",
       "    </tr>\n",
       "    <tr>\n",
       "      <th>2</th>\n",
       "      <td>estabilizador-de-smartphone-zhiyun-smooth-q4-c...</td>\n",
       "      <td>\\nEl estabilizador de cardán para smartphone ...</td>\n",
       "      <td>https://contentia.cl/products/estabilizador-de...</td>\n",
       "    </tr>\n",
       "    <tr>\n",
       "      <th>3</th>\n",
       "      <td>monopodo-de-video-xpro-de-4-secciones-con-base...</td>\n",
       "      <td>El último monopié XPRO de aluminio de 4 seccio...</td>\n",
       "      <td>https://contentia.cl/products/monopodo-de-vide...</td>\n",
       "    </tr>\n",
       "    <tr>\n",
       "      <th>4</th>\n",
       "      <td>monopodo-xpro-manfrotto-4-secciones-en-aluminio</td>\n",
       "      <td>El revolucionario monópodp XPRO de 4 secciones...</td>\n",
       "      <td>https://contentia.cl/products/monopodo-xpro-ma...</td>\n",
       "    </tr>\n",
       "    <tr>\n",
       "      <th>...</th>\n",
       "      <td>...</td>\n",
       "      <td>...</td>\n",
       "      <td>...</td>\n",
       "    </tr>\n",
       "    <tr>\n",
       "      <th>330</th>\n",
       "      <td>ulanzi-mt-11-tripode-flexible-para-camaras-reflex</td>\n",
       "      <td>El trípode Ulanzi MT-11 Octopus admite cámaras...</td>\n",
       "      <td>https://contentia.cl/products/ulanzi-mt-11-tri...</td>\n",
       "    </tr>\n",
       "    <tr>\n",
       "      <th>331</th>\n",
       "      <td>ulanzi-l1-pro-lampara-led-todo-terreno-para-ca...</td>\n",
       "      <td>Luz LED con 4 niveles de potencia regulable, t...</td>\n",
       "      <td>https://contentia.cl/products/ulanzi-l1-pro-la...</td>\n",
       "    </tr>\n",
       "    <tr>\n",
       "      <th>332</th>\n",
       "      <td>pages/tienda</td>\n",
       "      <td>Dirección:Avenida Italia 1392, local 3, Provid...</td>\n",
       "      <td>https://contentia.cl/pages/tienda</td>\n",
       "    </tr>\n",
       "    <tr>\n",
       "      <th>333</th>\n",
       "      <td>pages/despachos</td>\n",
       "      <td>Puedes elegir comprar con Retiro en Tienda o c...</td>\n",
       "      <td>https://contentia.cl/pages/despachos</td>\n",
       "    </tr>\n",
       "    <tr>\n",
       "      <th>334</th>\n",
       "      <td>policies/refund-policy</td>\n",
       "      <td>Cambios\\nPuedes solicitar un cambio dentro de ...</td>\n",
       "      <td>https://contentia.cl/policies/refund-policy</td>\n",
       "    </tr>\n",
       "  </tbody>\n",
       "</table>\n",
       "<p>335 rows × 3 columns</p>\n",
       "</div>"
      ],
      "text/plain": [
       "                                                    id   \n",
       "0    bateria-np-f970-decodificada-para-luces-led-y-...  \\\n",
       "1    cargador-de-baterias-serie-np-f-multifuncional...   \n",
       "2    estabilizador-de-smartphone-zhiyun-smooth-q4-c...   \n",
       "3    monopodo-de-video-xpro-de-4-secciones-con-base...   \n",
       "4      monopodo-xpro-manfrotto-4-secciones-en-aluminio   \n",
       "..                                                 ...   \n",
       "330  ulanzi-mt-11-tripode-flexible-para-camaras-reflex   \n",
       "331  ulanzi-l1-pro-lampara-led-todo-terreno-para-ca...   \n",
       "332                                       pages/tienda   \n",
       "333                                    pages/despachos   \n",
       "334                             policies/refund-policy   \n",
       "\n",
       "                                                  text   \n",
       "0     \\nBatería NP-F970 de la marca Iluminus. \\nCom...  \\\n",
       "1    Presentamos el cargador de baterías multifunci...   \n",
       "2     \\nEl estabilizador de cardán para smartphone ...   \n",
       "3    El último monopié XPRO de aluminio de 4 seccio...   \n",
       "4    El revolucionario monópodp XPRO de 4 secciones...   \n",
       "..                                                 ...   \n",
       "330  El trípode Ulanzi MT-11 Octopus admite cámaras...   \n",
       "331  Luz LED con 4 niveles de potencia regulable, t...   \n",
       "332  Dirección:Avenida Italia 1392, local 3, Provid...   \n",
       "333  Puedes elegir comprar con Retiro en Tienda o c...   \n",
       "334  Cambios\\nPuedes solicitar un cambio dentro de ...   \n",
       "\n",
       "                                                source  \n",
       "0    https://contentia.cl/products/bateria-np-f970-...  \n",
       "1    https://contentia.cl/products/cargador-de-bate...  \n",
       "2    https://contentia.cl/products/estabilizador-de...  \n",
       "3    https://contentia.cl/products/monopodo-de-vide...  \n",
       "4    https://contentia.cl/products/monopodo-xpro-ma...  \n",
       "..                                                 ...  \n",
       "330  https://contentia.cl/products/ulanzi-mt-11-tri...  \n",
       "331  https://contentia.cl/products/ulanzi-l1-pro-la...  \n",
       "332                  https://contentia.cl/pages/tienda  \n",
       "333               https://contentia.cl/pages/despachos  \n",
       "334        https://contentia.cl/policies/refund-policy  \n",
       "\n",
       "[335 rows x 3 columns]"
      ]
     },
     "execution_count": 3,
     "metadata": {},
     "output_type": "execute_result"
    }
   ],
   "source": [
    "data_for_upsert=pd.read_parquet(filepath_parquet)\n",
    "data_for_upsert"
   ]
  },
  {
   "cell_type": "code",
   "execution_count": 4,
   "id": "5b25a74a-8309-41ec-a2e1-62e7053400d0",
   "metadata": {},
   "outputs": [],
   "source": [
    "Tokenizer.initialize()\n",
    "tokenizer = Tokenizer()\n",
    "spec = PodSpec(environment=\"gcp-starter\")\n",
    "index_name = \"pinecone-docs\"\n",
    "\n",
    "kb = KnowledgeBase(index_name)\n",
    "\n",
    "if not any(name.endswith(index_name) for name in list_canopy_indexes()):\n",
    "    kb.create_canopy_index(spec=spec)\n",
    "\n",
    "kb.connect()"
   ]
  },
  {
   "cell_type": "code",
   "execution_count": 5,
   "id": "dbdfe418-3e8c-45c5-a9d5-a1863fdc073e",
   "metadata": {},
   "outputs": [],
   "source": [
    "documents = [Document(**row) for _, row in data_for_upsert.iterrows()]"
   ]
  },
  {
   "cell_type": "code",
   "execution_count": 6,
   "id": "5b377817-f7b5-47b8-a7a4-4db20c8ca5a9",
   "metadata": {},
   "outputs": [
    {
     "data": {
      "application/vnd.jupyter.widget-view+json": {
       "model_id": "1cb22c4456044055bceeddb0346ddc62",
       "version_major": 2,
       "version_minor": 0
      },
      "text/plain": [
       "  0%|          | 0/4 [00:00<?, ?it/s]"
      ]
     },
     "metadata": {},
     "output_type": "display_data"
    }
   ],
   "source": [
    "batch_size = 100\n",
    "for i in tqdm(range(0, len(documents), batch_size)):\n",
    "    kb.upsert(documents[i: i+batch_size])"
   ]
  },
  {
   "cell_type": "code",
   "execution_count": null,
   "id": "195926e3-96fe-4a3d-9cf7-0d92cb5e6064",
   "metadata": {},
   "outputs": [],
   "source": []
  }
 ],
 "metadata": {
  "kernelspec": {
   "display_name": "Python 3 (ipykernel)",
   "language": "python",
   "name": "python3"
  },
  "language_info": {
   "codemirror_mode": {
    "name": "ipython",
    "version": 3
   },
   "file_extension": ".py",
   "mimetype": "text/x-python",
   "name": "python",
   "nbconvert_exporter": "python",
   "pygments_lexer": "ipython3",
   "version": "3.10.13"
  }
 },
 "nbformat": 4,
 "nbformat_minor": 5
}
